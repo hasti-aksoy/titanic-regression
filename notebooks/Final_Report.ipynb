{
 "cells": [
  {
   "cell_type": "markdown",
   "id": "fe6db0ff",
   "metadata": {},
   "source": [
    "# Titanic Survival Prediction - Final Report\n",
    "\n",
    "This notebook summarizes the end-to-end workflow for predicting survival on the Titanic dataset.\n",
    "\n",
    "### Steps:\n",
    "1. Data Cleaning & Feature Engineering\n",
    "2. Exploratory Data Analysis (EDA)\n",
    "3. Modeling & Evaluation\n",
    "4. Results & Conclusion\n"
   ]
  },
  {
   "cell_type": "code",
   "execution_count": 34,
   "id": "66ad1ce1",
   "metadata": {},
   "outputs": [
    {
     "data": {
      "text/html": [
       "<div>\n",
       "<style scoped>\n",
       "    .dataframe tbody tr th:only-of-type {\n",
       "        vertical-align: middle;\n",
       "    }\n",
       "\n",
       "    .dataframe tbody tr th {\n",
       "        vertical-align: top;\n",
       "    }\n",
       "\n",
       "    .dataframe thead th {\n",
       "        text-align: right;\n",
       "    }\n",
       "</style>\n",
       "<table border=\"1\" class=\"dataframe\">\n",
       "  <thead>\n",
       "    <tr style=\"text-align: right;\">\n",
       "      <th></th>\n",
       "      <th>PassengerId</th>\n",
       "      <th>Survived</th>\n",
       "      <th>Pclass</th>\n",
       "      <th>Name</th>\n",
       "      <th>Sex</th>\n",
       "      <th>Age</th>\n",
       "      <th>SibSp</th>\n",
       "      <th>Parch</th>\n",
       "      <th>Fare</th>\n",
       "      <th>Embarked</th>\n",
       "      <th>FamilySize</th>\n",
       "      <th>IsAlone</th>\n",
       "      <th>Title</th>\n",
       "      <th>AgeBin</th>\n",
       "      <th>FareBin</th>\n",
       "    </tr>\n",
       "  </thead>\n",
       "  <tbody>\n",
       "    <tr>\n",
       "      <th>0</th>\n",
       "      <td>1</td>\n",
       "      <td>0</td>\n",
       "      <td>3</td>\n",
       "      <td>Braund, Mr. Owen Harris</td>\n",
       "      <td>male</td>\n",
       "      <td>22.0</td>\n",
       "      <td>1</td>\n",
       "      <td>0</td>\n",
       "      <td>7.2500</td>\n",
       "      <td>S</td>\n",
       "      <td>2</td>\n",
       "      <td>0</td>\n",
       "      <td>Mr</td>\n",
       "      <td>Adult</td>\n",
       "      <td>Q1</td>\n",
       "    </tr>\n",
       "    <tr>\n",
       "      <th>1</th>\n",
       "      <td>2</td>\n",
       "      <td>1</td>\n",
       "      <td>1</td>\n",
       "      <td>Cumings, Mrs. John Bradley (Florence Briggs Th...</td>\n",
       "      <td>female</td>\n",
       "      <td>38.0</td>\n",
       "      <td>1</td>\n",
       "      <td>0</td>\n",
       "      <td>71.2833</td>\n",
       "      <td>C</td>\n",
       "      <td>2</td>\n",
       "      <td>0</td>\n",
       "      <td>Mrs</td>\n",
       "      <td>Adult</td>\n",
       "      <td>Q4</td>\n",
       "    </tr>\n",
       "    <tr>\n",
       "      <th>2</th>\n",
       "      <td>3</td>\n",
       "      <td>1</td>\n",
       "      <td>3</td>\n",
       "      <td>Heikkinen, Miss. Laina</td>\n",
       "      <td>female</td>\n",
       "      <td>26.0</td>\n",
       "      <td>0</td>\n",
       "      <td>0</td>\n",
       "      <td>7.9250</td>\n",
       "      <td>S</td>\n",
       "      <td>1</td>\n",
       "      <td>1</td>\n",
       "      <td>Miss</td>\n",
       "      <td>Adult</td>\n",
       "      <td>Q2</td>\n",
       "    </tr>\n",
       "    <tr>\n",
       "      <th>3</th>\n",
       "      <td>4</td>\n",
       "      <td>1</td>\n",
       "      <td>1</td>\n",
       "      <td>Futrelle, Mrs. Jacques Heath (Lily May Peel)</td>\n",
       "      <td>female</td>\n",
       "      <td>35.0</td>\n",
       "      <td>1</td>\n",
       "      <td>0</td>\n",
       "      <td>53.1000</td>\n",
       "      <td>S</td>\n",
       "      <td>2</td>\n",
       "      <td>0</td>\n",
       "      <td>Mrs</td>\n",
       "      <td>Adult</td>\n",
       "      <td>Q4</td>\n",
       "    </tr>\n",
       "    <tr>\n",
       "      <th>4</th>\n",
       "      <td>5</td>\n",
       "      <td>0</td>\n",
       "      <td>3</td>\n",
       "      <td>Allen, Mr. William Henry</td>\n",
       "      <td>male</td>\n",
       "      <td>35.0</td>\n",
       "      <td>0</td>\n",
       "      <td>0</td>\n",
       "      <td>8.0500</td>\n",
       "      <td>S</td>\n",
       "      <td>1</td>\n",
       "      <td>1</td>\n",
       "      <td>Mr</td>\n",
       "      <td>Adult</td>\n",
       "      <td>Q2</td>\n",
       "    </tr>\n",
       "  </tbody>\n",
       "</table>\n",
       "</div>"
      ],
      "text/plain": [
       "   PassengerId  Survived  Pclass  \\\n",
       "0            1         0       3   \n",
       "1            2         1       1   \n",
       "2            3         1       3   \n",
       "3            4         1       1   \n",
       "4            5         0       3   \n",
       "\n",
       "                                                Name     Sex   Age  SibSp  \\\n",
       "0                            Braund, Mr. Owen Harris    male  22.0      1   \n",
       "1  Cumings, Mrs. John Bradley (Florence Briggs Th...  female  38.0      1   \n",
       "2                             Heikkinen, Miss. Laina  female  26.0      0   \n",
       "3       Futrelle, Mrs. Jacques Heath (Lily May Peel)  female  35.0      1   \n",
       "4                           Allen, Mr. William Henry    male  35.0      0   \n",
       "\n",
       "   Parch     Fare Embarked  FamilySize  IsAlone Title AgeBin FareBin  \n",
       "0      0   7.2500        S           2        0    Mr  Adult      Q1  \n",
       "1      0  71.2833        C           2        0   Mrs  Adult      Q4  \n",
       "2      0   7.9250        S           1        1  Miss  Adult      Q2  \n",
       "3      0  53.1000        S           2        0   Mrs  Adult      Q4  \n",
       "4      0   8.0500        S           1        1    Mr  Adult      Q2  "
      ]
     },
     "execution_count": 34,
     "metadata": {},
     "output_type": "execute_result"
    }
   ],
   "source": [
    "import pandas as pd\n",
    "\n",
    "df = pd.read_csv(\"../data/processed/titanic_clean.csv\")\n",
    "df.head()\n"
   ]
  },
  {
   "cell_type": "markdown",
   "id": "3f7190bf",
   "metadata": {},
   "source": [
    "We use the **cleaned dataset** with engineered features:\n",
    "- `FamilySize`, `IsAlone`\n",
    "- `Title` extracted from passenger names\n",
    "- `AgeBin`, `FareBin` created for grouping\n"
   ]
  },
  {
   "cell_type": "code",
   "execution_count": 35,
   "id": "1022bff7",
   "metadata": {},
   "outputs": [
    {
     "data": {
      "image/png": "[encoded data removed]",
      "text/plain": [
       "<Figure size 640x480 with 1 Axes>"
      ]
     },
     "metadata": {},
     "output_type": "display_data"
    }
   ],
   "source": [
    "import seaborn as sns\n",
    "import matplotlib.pyplot as plt\n",
    "\n",
    "sns.countplot(x=\"Sex\", hue=\"Survived\", data=df)\n",
    "plt.title(\"Survival by Sex\")\n",
    "plt.show()\n"
   ]
  },
  {
   "cell_type": "code",
   "execution_count": 36,
   "id": "40e02d02",
   "metadata": {},
   "outputs": [
    {
     "data": {
      "image/png": "[encoded data removed]",
      "text/plain": [
       "<Figure size 640x480 with 1 Axes>"
      ]
     },
     "metadata": {},
     "output_type": "display_data"
    }
   ],
   "source": [
    "sns.countplot(x=\"Pclass\", hue=\"Survived\", data=df)\n",
    "plt.title(\"Survival by Passenger Class\")\n",
    "plt.show()\n"
   ]
  },
  {
   "cell_type": "markdown",
   "id": "0943b598",
   "metadata": {},
   "source": [
    "Observation:\n",
    "- Females had a much higher survival rate than males.\n",
    "- Higher class passengers (1st class) had significantly higher chances of survival.\n"
   ]
  },
  {
   "cell_type": "code",
   "execution_count": 52,
   "id": "49905a87",
   "metadata": {},
   "outputs": [
    {
     "data": {
      "text/html": [
       "<div>\n",
       "<style scoped>\n",
       "    .dataframe tbody tr th:only-of-type {\n",
       "        vertical-align: middle;\n",
       "    }\n",
       "\n",
       "    .dataframe tbody tr th {\n",
       "        vertical-align: top;\n",
       "    }\n",
       "\n",
       "    .dataframe thead th {\n",
       "        text-align: right;\n",
       "    }\n",
       "</style>\n",
       "<table border=\"1\" class=\"dataframe\">\n",
       "  <thead>\n",
       "    <tr style=\"text-align: right;\">\n",
       "      <th></th>\n",
       "      <th>Model</th>\n",
       "      <th>Accuracy</th>\n",
       "      <th>Precision</th>\n",
       "      <th>Recall</th>\n",
       "      <th>F1</th>\n",
       "      <th>ROC_AUC</th>\n",
       "    </tr>\n",
       "  </thead>\n",
       "  <tbody>\n",
       "    <tr>\n",
       "      <th>0</th>\n",
       "      <td>Elastic Net (l1=0.5)</td>\n",
       "      <td>0.844</td>\n",
       "      <td>0.825</td>\n",
       "      <td>0.754</td>\n",
       "      <td>0.788</td>\n",
       "      <td>0.872</td>\n",
       "    </tr>\n",
       "    <tr>\n",
       "      <th>1</th>\n",
       "      <td>Lasso (L1)</td>\n",
       "      <td>0.844</td>\n",
       "      <td>0.825</td>\n",
       "      <td>0.754</td>\n",
       "      <td>0.788</td>\n",
       "      <td>0.872</td>\n",
       "    </tr>\n",
       "    <tr>\n",
       "      <th>2</th>\n",
       "      <td>Ridge (L2)</td>\n",
       "      <td>0.844</td>\n",
       "      <td>0.825</td>\n",
       "      <td>0.754</td>\n",
       "      <td>0.788</td>\n",
       "      <td>0.871</td>\n",
       "    </tr>\n",
       "    <tr>\n",
       "      <th>3</th>\n",
       "      <td>Logistic (baseline)</td>\n",
       "      <td>0.844</td>\n",
       "      <td>0.825</td>\n",
       "      <td>0.754</td>\n",
       "      <td>0.788</td>\n",
       "      <td>0.871</td>\n",
       "    </tr>\n",
       "  </tbody>\n",
       "</table>\n",
       "</div>"
      ],
      "text/plain": [
       "                  Model  Accuracy  Precision  Recall     F1  ROC_AUC\n",
       "0  Elastic Net (l1=0.5)     0.844      0.825   0.754  0.788    0.872\n",
       "1            Lasso (L1)     0.844      0.825   0.754  0.788    0.872\n",
       "2            Ridge (L2)     0.844      0.825   0.754  0.788    0.871\n",
       "3   Logistic (baseline)     0.844      0.825   0.754  0.788    0.871"
      ]
     },
     "execution_count": 52,
     "metadata": {},
     "output_type": "execute_result"
    }
   ],
   "source": [
    "results = pd.read_csv(r\"C:\\Users\\hasti_aksoy\\OneDrive\\Desktop\\regression-classification-project\\regression-classification-project\\reports\\figures\\model_comparison.csv\")\n",
    "results\n"
   ]
  },
  {
   "cell_type": "code",
   "execution_count": 55,
   "id": "510e4f7c",
   "metadata": {},
   "outputs": [
    {
     "data": {
      "image/png": "[encoded data removed]",
      "text/plain": [
       "<Figure size 640x480 with 1 Axes>"
      ]
     },
     "metadata": {},
     "output_type": "display_data"
    }
   ],
   "source": [
    "import matplotlib.pyplot as plt\n",
    "import matplotlib.image as mpimg\n",
    "\n",
    "img = mpimg.imread(r\"C:\\Users\\hasti_aksoy\\OneDrive\\Desktop\\regression-classification-project\\regression-classification-project\\reports\\figures\\roc_comparison_all.png\")\n",
    "plt.imshow(img)\n",
    "plt.axis(\"off\")\n",
    "plt.show()\n"
   ]
  },
  {
   "cell_type": "markdown",
   "id": "5557d734",
   "metadata": {},
   "source": [
    "Here we compare Logistic Regression, Ridge, Lasso, and Elastic Net.  \n",
    "**Elastic Net Logistic Regression** achieved the best ROC-AUC score.\n"
   ]
  },
  {
   "cell_type": "code",
   "execution_count": 56,
   "id": "449cc5ff",
   "metadata": {},
   "outputs": [
    {
     "data": {
      "text/html": [
       "<div>\n",
       "<style scoped>\n",
       "    .dataframe tbody tr th:only-of-type {\n",
       "        vertical-align: middle;\n",
       "    }\n",
       "\n",
       "    .dataframe tbody tr th {\n",
       "        vertical-align: top;\n",
       "    }\n",
       "\n",
       "    .dataframe thead th {\n",
       "        text-align: right;\n",
       "    }\n",
       "</style>\n",
       "<table border=\"1\" class=\"dataframe\">\n",
       "  <thead>\n",
       "    <tr style=\"text-align: right;\">\n",
       "      <th></th>\n",
       "      <th>SelectedFeatures</th>\n",
       "    </tr>\n",
       "  </thead>\n",
       "  <tbody>\n",
       "    <tr>\n",
       "      <th>0</th>\n",
       "      <td>Pclass</td>\n",
       "    </tr>\n",
       "    <tr>\n",
       "      <th>1</th>\n",
       "      <td>Age</td>\n",
       "    </tr>\n",
       "    <tr>\n",
       "      <th>2</th>\n",
       "      <td>SibSp</td>\n",
       "    </tr>\n",
       "    <tr>\n",
       "      <th>3</th>\n",
       "      <td>Fare</td>\n",
       "    </tr>\n",
       "    <tr>\n",
       "      <th>4</th>\n",
       "      <td>FamilySize</td>\n",
       "    </tr>\n",
       "    <tr>\n",
       "      <th>5</th>\n",
       "      <td>IsAlone</td>\n",
       "    </tr>\n",
       "    <tr>\n",
       "      <th>6</th>\n",
       "      <td>Sex_female</td>\n",
       "    </tr>\n",
       "    <tr>\n",
       "      <th>7</th>\n",
       "      <td>Sex_male</td>\n",
       "    </tr>\n",
       "    <tr>\n",
       "      <th>8</th>\n",
       "      <td>Embarked_Q</td>\n",
       "    </tr>\n",
       "    <tr>\n",
       "      <th>9</th>\n",
       "      <td>Embarked_S</td>\n",
       "    </tr>\n",
       "  </tbody>\n",
       "</table>\n",
       "</div>"
      ],
      "text/plain": [
       "  SelectedFeatures\n",
       "0           Pclass\n",
       "1              Age\n",
       "2            SibSp\n",
       "3             Fare\n",
       "4       FamilySize\n",
       "5          IsAlone\n",
       "6       Sex_female\n",
       "7         Sex_male\n",
       "8       Embarked_Q\n",
       "9       Embarked_S"
      ]
     },
     "execution_count": 56,
     "metadata": {},
     "output_type": "execute_result"
    }
   ],
   "source": [
    "feat_imp = pd.read_csv(r\"C:\\Users\\hasti_aksoy\\OneDrive\\Desktop\\regression-classification-project\\regression-classification-project\\reports\\figures\\selected_features_l1.csv\")\n",
    "feat_imp.head(10)\n"
   ]
  },
  {
   "cell_type": "markdown",
   "id": "6b5200b2",
   "metadata": {},
   "source": [
    "The most important features include:\n",
    "- `Sex_female`\n",
    "- `Pclass`\n",
    "- `Title_Mr`\n",
    "- `Fare`\n",
    "- `FamilySize`\n"
   ]
  },
  {
   "cell_type": "code",
   "execution_count": 40,
   "id": "e38a5d0d",
   "metadata": {},
   "outputs": [
    {
     "name": "stdout",
     "output_type": "stream",
     "text": [
      "Pipeline(steps=[('prep',\n",
      "                 ColumnTransformer(transformers=[('num', StandardScaler(),\n",
      "                                                  ['Pclass', 'Age', 'SibSp',\n",
      "                                                   'Parch', 'Fare',\n",
      "                                                   'FamilySize', 'IsAlone']),\n",
      "                                                 ('cat',\n",
      "                                                  OneHotEncoder(handle_unknown='ignore'),\n",
      "                                                  ['Sex', 'Embarked', 'Title',\n",
      "                                                   'AgeBin', 'FareBin'])])),\n",
      "                ('select',\n",
      "                 SelectFromModel(estimator=LogisticRegression(C=0.5,\n",
      "                                                              max_iter=4000,\n",
      "                                                              penalty='l1',\n",
      "                                                              solver='saga'))),\n",
      "                ('clf', LogisticRegression(max_iter=2000))])\n"
     ]
    }
   ],
   "source": [
    "import joblib\n",
    "\n",
    "best_model = joblib.load(\"../models/best_pipeline.joblib\")\n",
    "print(best_model)\n"
   ]
  },
  {
   "cell_type": "markdown",
   "id": "2df87963",
   "metadata": {},
   "source": [
    "✅ **Best Model: Elastic Net Logistic Regression**\n",
    "\n",
    "- Accuracy: 0.844  \n",
    "- Precision: 0.825  \n",
    "- Recall: 0.754  \n",
    "- F1-score: 0.788  \n",
    "- ROC-AUC: 0.872\n"
   ]
  },
  {
   "cell_type": "markdown",
   "id": "775571f5",
   "metadata": {},
   "source": [
    "## Conclusion\n",
    "- Key predictors of survival: **Sex**, **Pclass**, and **Title**.\n",
    "- Family-related features also improved model performance.\n",
    "- Elastic Net Logistic Regression was the best performing model.\n",
    "- This project demonstrates the complete workflow: from raw data → cleaning → EDA → modeling → evaluation → saving models.\n"
   ]
  }
 ],
 "metadata": {
  "kernelspec": {
   "display_name": "Python 3",
   "language": "python",
   "name": "python3"
  },
  "language_info": {
   "codemirror_mode": {
    "name": "ipython",
    "version": 3
   },
   "file_extension": ".py",
   "mimetype": "text/x-python",
   "name": "python",
   "nbconvert_exporter": "python",
   "pygments_lexer": "ipython3",
   "version": "3.13.7"
  }
 },
 "nbformat": 4,
 "nbformat_minor": 5
}
